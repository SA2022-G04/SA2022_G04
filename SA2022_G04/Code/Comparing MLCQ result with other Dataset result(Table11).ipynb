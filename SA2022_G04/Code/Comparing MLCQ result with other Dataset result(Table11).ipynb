{
 "cells": [
  {
   "cell_type": "markdown",
   "id": "396b2391",
   "metadata": {},
   "source": [
    "# Table 11\n",
    "* Comparing the F-measure of metric-based classifiers on the MLCQ dataset (our expriment) to performances reported in the original studies"
   ]
  },
  {
   "cell_type": "code",
   "execution_count": 1,
   "id": "065b1989",
   "metadata": {},
   "outputs": [],
   "source": [
    "import pandas as pd\n",
    "dc = pd.read_csv('../Outputs/Tables/God_Class_Table9.csv')\n",
    "de = pd.read_csv('../Outputs/Tables/long_method_Table10.csv')\n",
    "hgc = dc.loc[2].at[\"F-measure\"]\n",
    "mlgc = dc.loc[3].at[\"F-measure\"]\n",
    "hlm = de.loc[1].at[\"F-measure\"]\n",
    "mllm = de.loc[4].at[\"F-measure\"]"
   ]
  },
  {
   "cell_type": "code",
   "execution_count": 2,
   "id": "4aa3eb3f",
   "metadata": {},
   "outputs": [
    {
     "data": {
      "text/html": [
       "<div>\n",
       "<style scoped>\n",
       "    .dataframe tbody tr th:only-of-type {\n",
       "        vertical-align: middle;\n",
       "    }\n",
       "\n",
       "    .dataframe tbody tr th {\n",
       "        vertical-align: top;\n",
       "    }\n",
       "\n",
       "    .dataframe thead th {\n",
       "        text-align: right;\n",
       "    }\n",
       "</style>\n",
       "<table border=\"1\" class=\"dataframe\">\n",
       "  <thead>\n",
       "    <tr style=\"text-align: right;\">\n",
       "      <th></th>\n",
       "      <th>Proposed approach</th>\n",
       "      <th>Dataset</th>\n",
       "      <th>Original study</th>\n",
       "    </tr>\n",
       "  </thead>\n",
       "  <tbody>\n",
       "    <tr>\n",
       "      <th>0</th>\n",
       "      <td>Fontana et al. (2016) : The authors used many ...</td>\n",
       "      <td>Qualitas corpus – 420 instances per smell samp...</td>\n",
       "      <td>ML approach: GC:0.98 LM:1.0</td>\n",
       "    </tr>\n",
       "    <tr>\n",
       "      <th>1</th>\n",
       "      <td>DiNucci et al.(2018): The autors replicate the...</td>\n",
       "      <td>The authors use the same dataset as Fontana et...</td>\n",
       "      <td>ML approach:GC:0.5 LM:0.48</td>\n",
       "    </tr>\n",
       "    <tr>\n",
       "      <th>2</th>\n",
       "      <td>Pecorelli et al. (2020) :This study compares t...</td>\n",
       "      <td>Palomba et al. (2018a) – 125 releases of 13 op...</td>\n",
       "      <td>ML approach: GC:0.41 LM:0.23 , Heuristics: GC:...</td>\n",
       "    </tr>\n",
       "    <tr>\n",
       "      <th>3</th>\n",
       "      <td>Aleksandar et al(2022):This study compares the...</td>\n",
       "      <td>MLCQ dataset with nearly 15000 code samples wa...</td>\n",
       "      <td>ML approach:  GC:0.5   LM:0.67 ,  Heuristics: ...</td>\n",
       "    </tr>\n",
       "  </tbody>\n",
       "</table>\n",
       "</div>"
      ],
      "text/plain": [
       "                                   Proposed approach  \\\n",
       "0  Fontana et al. (2016) : The authors used many ...   \n",
       "1  DiNucci et al.(2018): The autors replicate the...   \n",
       "2  Pecorelli et al. (2020) :This study compares t...   \n",
       "3  Aleksandar et al(2022):This study compares the...   \n",
       "\n",
       "                                             Dataset  \\\n",
       "0  Qualitas corpus – 420 instances per smell samp...   \n",
       "1  The authors use the same dataset as Fontana et...   \n",
       "2  Palomba et al. (2018a) – 125 releases of 13 op...   \n",
       "3  MLCQ dataset with nearly 15000 code samples wa...   \n",
       "\n",
       "                                      Original study  \n",
       "0                        ML approach: GC:0.98 LM:1.0  \n",
       "1                         ML approach:GC:0.5 LM:0.48  \n",
       "2  ML approach: GC:0.41 LM:0.23 , Heuristics: GC:...  \n",
       "3  ML approach:  GC:0.5   LM:0.67 ,  Heuristics: ...  "
      ]
     },
     "execution_count": 2,
     "metadata": {},
     "output_type": "execute_result"
    }
   ],
   "source": [
    "import pandas as pd\n",
    "df = pd.DataFrame(columns=['Proposed approach', 'Dataset', 'Original study'])\n",
    "result = f'ML approach:  GC:{mlgc}   LM:{mllm} ,  Heuristics:  GC:{hgc}   LM:{hlm}'\n",
    "data = {'Proposed approach':['Fontana et al. (2016) : The authors used many code metrics as featgures (61 class level and 82 method level metrics). The authors also experimented with a wide range of ML classifiers.Here, we report the best performance. Experiment: 10-fold-cross validation', 'DiNucci et al.(2018): The autors replicate the study by Fontana et al.(2016) but correct the identified limitations.', 'Pecorelli et al. (2020) :This study compares the performance of ML-based and heuristic detectors. In the ML based approach, authors use 17 code metrics as features. These were the same metrics used in heuristics.The authors provide an online appendix for experiment replication. However, the appendix contains the extracted metrics without the source code needed to run our experiments.Though the dataset consists of open-source projects, we lacked the details necessary for reliable matching with the source code.Experiment: 10-fold-crossvalidation.' ,'Aleksandar et al(2022):This study compares the performance of multiple ML-based code smell detection models against multiple metric-based heuristics for detection of God Class and Long Method code smells.'], \n",
    "        'Dataset':['Qualitas corpus – 420 instances per smell sampled from 74 open-source systems. Labeling procedure: semiautomatic. Cross-checked labels: yes. Annotator training: yes.The authors enforced anunrealistic ratio of code smells to non-smells on both the training and the test set.', 'The authors use the same dataset as Fontana et al.(2016) but correct the artificial smell to the non smell ratio on the wholedataset.', 'Palomba et al. (2018a) – 125 releases of 13 open-source projects. Labeling procedure: semiautomatic. Annotator training: no. Cross-checked labels: yes.', 'MLCQ dataset with nearly 15000 code samples was created by sofware developers with professional exprience who reviewed industry-relevant, contemporary Java Open source projects. Labeling procedure: Manually'],\n",
    "       'Original study':['ML approach: GC:0.98 LM:1.0','ML approach:GC:0.5 LM:0.48', 'ML approach: GC:0.41 LM:0.23 , Heuristics: GC:0.16 LM:0.44' , result]}\n",
    "Comparing_MLCQ_Resualt_Table11= pd.DataFrame(data)\n",
    "Comparing_MLCQ_Resualt_Table11.to_csv('../Outputs/Tables/Comparing_MLCQ_Result_Table11.csv')\n",
    "Comparing_MLCQ_Resualt_Table11"
   ]
  }
 ],
 "metadata": {
  "kernelspec": {
   "display_name": "Python 3 (ipykernel)",
   "language": "python",
   "name": "python3"
  },
  "language_info": {
   "codemirror_mode": {
    "name": "ipython",
    "version": 3
   },
   "file_extension": ".py",
   "mimetype": "text/x-python",
   "name": "python",
   "nbconvert_exporter": "python",
   "pygments_lexer": "ipython3",
   "version": "3.9.15"
  }
 },
 "nbformat": 4,
 "nbformat_minor": 5
}
