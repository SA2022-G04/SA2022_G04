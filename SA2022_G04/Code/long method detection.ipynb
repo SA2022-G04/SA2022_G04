{
 "cells": [
  {
   "cell_type": "markdown",
   "id": "211b7855",
   "metadata": {},
   "source": [
    "# ML_code2seq"
   ]
  },
  {
   "cell_type": "code",
   "execution_count": 1,
   "id": "f44a0eaf",
   "metadata": {},
   "outputs": [],
   "source": [
    "import numpy as np\n",
    "import pandas as pd"
   ]
  },
  {
   "cell_type": "code",
   "execution_count": null,
   "id": "bd291b8c",
   "metadata": {},
   "outputs": [],
   "source": []
  },
  {
   "cell_type": "code",
   "execution_count": 2,
   "id": "f1fe1769",
   "metadata": {},
   "outputs": [],
   "source": [
    "from imblearn import over_sampling\n",
    "from imblearn import pipeline"
   ]
  },
  {
   "cell_type": "code",
   "execution_count": 3,
   "id": "c886ffb6",
   "metadata": {},
   "outputs": [],
   "source": [
    "from sklearn import ensemble\n",
    "from sklearn import svm\n",
    "from sklearn import metrics "
   ]
  },
  {
   "cell_type": "code",
   "execution_count": 4,
   "id": "533d25c5",
   "metadata": {},
   "outputs": [],
   "source": [
    "def binary_classes(smell):\n",
    "    return 0 if smell == \"none\" else 1"
   ]
  },
  {
   "cell_type": "code",
   "execution_count": 5,
   "id": "dbe9e2ac",
   "metadata": {},
   "outputs": [],
   "source": [
    "def fix_data_type(vector):\n",
    "    return np.asarray(vector)"
   ]
  },
  {
   "cell_type": "code",
   "execution_count": 6,
   "id": "ef5c7c17",
   "metadata": {},
   "outputs": [],
   "source": [
    "def load_data(dataset):\n",
    "    df = pd.read_pickle(dataset)\n",
    "    \n",
    "    df[\"vectors\"] = df[\"code_vector\"].apply(lambda x: fix_data_type(x))\n",
    "    df[\"classes\"] = df[\"smell\"].apply(lambda x: binary_classes(x))\n",
    "    \n",
    "    X = list(df[\"vectors\"].values)\n",
    "    y = list(df[\"classes\"].values)\n",
    "    \n",
    "    return X, y"
   ]
  },
  {
   "cell_type": "code",
   "execution_count": 7,
   "id": "31ba2fd7",
   "metadata": {},
   "outputs": [],
   "source": [
    "import pickle\n",
    "with open(\"../Data/Long_Method_code2seq_train.pkl\",'rb') as f:\n",
    "    train = pickle.load(f)"
   ]
  },
  {
   "cell_type": "code",
   "execution_count": 8,
   "id": "6b2ba4e9",
   "metadata": {},
   "outputs": [
    {
     "data": {
      "text/html": [
       "<div>\n",
       "<style scoped>\n",
       "    .dataframe tbody tr th:only-of-type {\n",
       "        vertical-align: middle;\n",
       "    }\n",
       "\n",
       "    .dataframe tbody tr th {\n",
       "        vertical-align: top;\n",
       "    }\n",
       "\n",
       "    .dataframe thead th {\n",
       "        text-align: right;\n",
       "    }\n",
       "</style>\n",
       "<table border=\"1\" class=\"dataframe\">\n",
       "  <thead>\n",
       "    <tr style=\"text-align: right;\">\n",
       "      <th></th>\n",
       "      <th>file_name</th>\n",
       "      <th>smell</th>\n",
       "      <th>code_vector</th>\n",
       "    </tr>\n",
       "  </thead>\n",
       "  <tbody>\n",
       "    <tr>\n",
       "      <th>0</th>\n",
       "      <td>MLCQ_long_method/none/7910247.txt</td>\n",
       "      <td>none</td>\n",
       "      <td>[-0.3261149, -0.05666286, 0.02059826, 0.220598...</td>\n",
       "    </tr>\n",
       "    <tr>\n",
       "      <th>1</th>\n",
       "      <td>MLCQ_long_method/major/3951549.txt</td>\n",
       "      <td>major</td>\n",
       "      <td>[-0.1993736, -0.3416512, -0.1583345, 0.4814345...</td>\n",
       "    </tr>\n",
       "    <tr>\n",
       "      <th>2</th>\n",
       "      <td>MLCQ_long_method/none/8095977.txt</td>\n",
       "      <td>none</td>\n",
       "      <td>[-0.09474506, -0.5575668, 0.22386168, 0.664414...</td>\n",
       "    </tr>\n",
       "    <tr>\n",
       "      <th>3</th>\n",
       "      <td>MLCQ_long_method/none/5857311.txt</td>\n",
       "      <td>none</td>\n",
       "      <td>[0.07080246, -0.021498619, 0.234931, 0.0992546...</td>\n",
       "    </tr>\n",
       "    <tr>\n",
       "      <th>4</th>\n",
       "      <td>MLCQ_long_method/none/5548181.txt</td>\n",
       "      <td>none</td>\n",
       "      <td>[-0.090814345, -0.2320958, -0.027810782, 0.150...</td>\n",
       "    </tr>\n",
       "    <tr>\n",
       "      <th>...</th>\n",
       "      <td>...</td>\n",
       "      <td>...</td>\n",
       "      <td>...</td>\n",
       "    </tr>\n",
       "    <tr>\n",
       "      <th>1744</th>\n",
       "      <td>MLCQ_long_method/none/4901677.txt</td>\n",
       "      <td>none</td>\n",
       "      <td>[0.09504414, -0.20754972, 0.01322772, -0.16502...</td>\n",
       "    </tr>\n",
       "    <tr>\n",
       "      <th>1745</th>\n",
       "      <td>MLCQ_long_method/none/4498016.txt</td>\n",
       "      <td>none</td>\n",
       "      <td>[0.01239255, 0.049146745, 0.20900674, 0.347640...</td>\n",
       "    </tr>\n",
       "    <tr>\n",
       "      <th>1746</th>\n",
       "      <td>MLCQ_long_method/none/5768802.txt</td>\n",
       "      <td>none</td>\n",
       "      <td>[-0.38228133, -0.072750896, -0.08919359, 0.051...</td>\n",
       "    </tr>\n",
       "    <tr>\n",
       "      <th>1747</th>\n",
       "      <td>MLCQ_long_method/none/5314620.txt</td>\n",
       "      <td>none</td>\n",
       "      <td>[-0.29234344, 0.34453365, 0.15246445, -0.17573...</td>\n",
       "    </tr>\n",
       "    <tr>\n",
       "      <th>1748</th>\n",
       "      <td>MLCQ_long_method/none/5559770.txt</td>\n",
       "      <td>none</td>\n",
       "      <td>[0.1919082, 0.22976206, 0.018849786, -0.127464...</td>\n",
       "    </tr>\n",
       "  </tbody>\n",
       "</table>\n",
       "<p>1749 rows × 3 columns</p>\n",
       "</div>"
      ],
      "text/plain": [
       "                               file_name  smell  \\\n",
       "0      MLCQ_long_method/none/7910247.txt   none   \n",
       "1     MLCQ_long_method/major/3951549.txt  major   \n",
       "2      MLCQ_long_method/none/8095977.txt   none   \n",
       "3      MLCQ_long_method/none/5857311.txt   none   \n",
       "4      MLCQ_long_method/none/5548181.txt   none   \n",
       "...                                  ...    ...   \n",
       "1744   MLCQ_long_method/none/4901677.txt   none   \n",
       "1745   MLCQ_long_method/none/4498016.txt   none   \n",
       "1746   MLCQ_long_method/none/5768802.txt   none   \n",
       "1747   MLCQ_long_method/none/5314620.txt   none   \n",
       "1748   MLCQ_long_method/none/5559770.txt   none   \n",
       "\n",
       "                                            code_vector  \n",
       "0     [-0.3261149, -0.05666286, 0.02059826, 0.220598...  \n",
       "1     [-0.1993736, -0.3416512, -0.1583345, 0.4814345...  \n",
       "2     [-0.09474506, -0.5575668, 0.22386168, 0.664414...  \n",
       "3     [0.07080246, -0.021498619, 0.234931, 0.0992546...  \n",
       "4     [-0.090814345, -0.2320958, -0.027810782, 0.150...  \n",
       "...                                                 ...  \n",
       "1744  [0.09504414, -0.20754972, 0.01322772, -0.16502...  \n",
       "1745  [0.01239255, 0.049146745, 0.20900674, 0.347640...  \n",
       "1746  [-0.38228133, -0.072750896, -0.08919359, 0.051...  \n",
       "1747  [-0.29234344, 0.34453365, 0.15246445, -0.17573...  \n",
       "1748  [0.1919082, 0.22976206, 0.018849786, -0.127464...  \n",
       "\n",
       "[1749 rows x 3 columns]"
      ]
     },
     "execution_count": 8,
     "metadata": {},
     "output_type": "execute_result"
    }
   ],
   "source": [
    "train"
   ]
  },
  {
   "cell_type": "code",
   "execution_count": 9,
   "id": "637219f0",
   "metadata": {},
   "outputs": [],
   "source": [
    "import pickle\n",
    "with open(\"../Data/Long_Method_code2seq_test.pkl\",'rb') as f:\n",
    "    test = pickle.load(f)"
   ]
  },
  {
   "cell_type": "code",
   "execution_count": 10,
   "id": "9d17924d",
   "metadata": {},
   "outputs": [
    {
     "data": {
      "text/html": [
       "<div>\n",
       "<style scoped>\n",
       "    .dataframe tbody tr th:only-of-type {\n",
       "        vertical-align: middle;\n",
       "    }\n",
       "\n",
       "    .dataframe tbody tr th {\n",
       "        vertical-align: top;\n",
       "    }\n",
       "\n",
       "    .dataframe thead th {\n",
       "        text-align: right;\n",
       "    }\n",
       "</style>\n",
       "<table border=\"1\" class=\"dataframe\">\n",
       "  <thead>\n",
       "    <tr style=\"text-align: right;\">\n",
       "      <th></th>\n",
       "      <th>file_name</th>\n",
       "      <th>smell</th>\n",
       "      <th>code_vector</th>\n",
       "    </tr>\n",
       "  </thead>\n",
       "  <tbody>\n",
       "    <tr>\n",
       "      <th>0</th>\n",
       "      <td>MLCQ_long_method/none/5930471.txt</td>\n",
       "      <td>none</td>\n",
       "      <td>[-0.13201438, -0.8747752, 0.012434537, 0.63756...</td>\n",
       "    </tr>\n",
       "    <tr>\n",
       "      <th>1</th>\n",
       "      <td>MLCQ_long_method/none/4157934.txt</td>\n",
       "      <td>none</td>\n",
       "      <td>[-0.4305849, -0.11134837, 0.20207584, 0.606823...</td>\n",
       "    </tr>\n",
       "    <tr>\n",
       "      <th>2</th>\n",
       "      <td>MLCQ_long_method/none/8615362.txt</td>\n",
       "      <td>none</td>\n",
       "      <td>[0.06917582, -0.5058536, -0.1766273, 0.2018232...</td>\n",
       "    </tr>\n",
       "    <tr>\n",
       "      <th>3</th>\n",
       "      <td>MLCQ_long_method/none/4303100.txt</td>\n",
       "      <td>none</td>\n",
       "      <td>[0.15827623, -0.14351895, -0.015003629, 0.2046...</td>\n",
       "    </tr>\n",
       "    <tr>\n",
       "      <th>4</th>\n",
       "      <td>MLCQ_long_method/none/6629031.txt</td>\n",
       "      <td>none</td>\n",
       "      <td>[-0.2560322, -0.23334095, 0.32430294, 0.132261...</td>\n",
       "    </tr>\n",
       "    <tr>\n",
       "      <th>...</th>\n",
       "      <td>...</td>\n",
       "      <td>...</td>\n",
       "      <td>...</td>\n",
       "    </tr>\n",
       "    <tr>\n",
       "      <th>438</th>\n",
       "      <td>MLCQ_long_method/none/7568142.txt</td>\n",
       "      <td>none</td>\n",
       "      <td>[-0.19365047, -0.09279393, -0.13101135, 0.0249...</td>\n",
       "    </tr>\n",
       "    <tr>\n",
       "      <th>439</th>\n",
       "      <td>MLCQ_long_method/none/7909952.txt</td>\n",
       "      <td>none</td>\n",
       "      <td>[0.06439304, -0.19614486, -0.050852746, 0.5336...</td>\n",
       "    </tr>\n",
       "    <tr>\n",
       "      <th>440</th>\n",
       "      <td>MLCQ_long_method/none/5958765.txt</td>\n",
       "      <td>none</td>\n",
       "      <td>[0.011347619, -0.5282566, 0.02623399, 0.419980...</td>\n",
       "    </tr>\n",
       "    <tr>\n",
       "      <th>441</th>\n",
       "      <td>MLCQ_long_method/none/8211343.txt</td>\n",
       "      <td>none</td>\n",
       "      <td>[0.4287572, -0.12940489, -0.10715971, 0.404360...</td>\n",
       "    </tr>\n",
       "    <tr>\n",
       "      <th>442</th>\n",
       "      <td>MLCQ_long_method/none/4959879.txt</td>\n",
       "      <td>none</td>\n",
       "      <td>[0.015235978, 0.28958875, 0.057864297, -0.2147...</td>\n",
       "    </tr>\n",
       "  </tbody>\n",
       "</table>\n",
       "<p>443 rows × 3 columns</p>\n",
       "</div>"
      ],
      "text/plain": [
       "                             file_name smell  \\\n",
       "0    MLCQ_long_method/none/5930471.txt  none   \n",
       "1    MLCQ_long_method/none/4157934.txt  none   \n",
       "2    MLCQ_long_method/none/8615362.txt  none   \n",
       "3    MLCQ_long_method/none/4303100.txt  none   \n",
       "4    MLCQ_long_method/none/6629031.txt  none   \n",
       "..                                 ...   ...   \n",
       "438  MLCQ_long_method/none/7568142.txt  none   \n",
       "439  MLCQ_long_method/none/7909952.txt  none   \n",
       "440  MLCQ_long_method/none/5958765.txt  none   \n",
       "441  MLCQ_long_method/none/8211343.txt  none   \n",
       "442  MLCQ_long_method/none/4959879.txt  none   \n",
       "\n",
       "                                           code_vector  \n",
       "0    [-0.13201438, -0.8747752, 0.012434537, 0.63756...  \n",
       "1    [-0.4305849, -0.11134837, 0.20207584, 0.606823...  \n",
       "2    [0.06917582, -0.5058536, -0.1766273, 0.2018232...  \n",
       "3    [0.15827623, -0.14351895, -0.015003629, 0.2046...  \n",
       "4    [-0.2560322, -0.23334095, 0.32430294, 0.132261...  \n",
       "..                                                 ...  \n",
       "438  [-0.19365047, -0.09279393, -0.13101135, 0.0249...  \n",
       "439  [0.06439304, -0.19614486, -0.050852746, 0.5336...  \n",
       "440  [0.011347619, -0.5282566, 0.02623399, 0.419980...  \n",
       "441  [0.4287572, -0.12940489, -0.10715971, 0.404360...  \n",
       "442  [0.015235978, 0.28958875, 0.057864297, -0.2147...  \n",
       "\n",
       "[443 rows x 3 columns]"
      ]
     },
     "execution_count": 10,
     "metadata": {},
     "output_type": "execute_result"
    }
   ],
   "source": [
    "test"
   ]
  },
  {
   "cell_type": "code",
   "execution_count": 11,
   "id": "343f9574",
   "metadata": {},
   "outputs": [],
   "source": [
    "X_train, y_train = load_data(\"../Data/Long_Method_code2seq_train.pkl\")"
   ]
  },
  {
   "cell_type": "code",
   "execution_count": 12,
   "id": "08ddf03c",
   "metadata": {},
   "outputs": [],
   "source": [
    "X_test, y_test = load_data(\"../Data/Long_Method_code2seq_test.pkl\")"
   ]
  },
  {
   "cell_type": "code",
   "execution_count": 13,
   "id": "1f3d4304",
   "metadata": {},
   "outputs": [],
   "source": [
    "model = pipeline.make_pipeline(\n",
    "    over_sampling.SMOTE(sampling_strategy=0.62, random_state=42),\n",
    "    ensemble.BaggingClassifier(\n",
    "        base_estimator=svm.SVC(C=0.85, random_state=42),\n",
    "        random_state=42\n",
    "    )\n",
    ")"
   ]
  },
  {
   "cell_type": "code",
   "execution_count": null,
   "id": "6667d78e",
   "metadata": {},
   "outputs": [
    {
     "name": "stderr",
     "output_type": "stream",
     "text": [
      "C:\\Users\\PS\\AppData\\Local\\Programs\\Python\\Python39\\lib\\site-packages\\sklearn\\ensemble\\_base.py:166: FutureWarning: `base_estimator` was renamed to `estimator` in version 1.2 and will be removed in 1.4.\n",
      "  warnings.warn(\n"
     ]
    }
   ],
   "source": [
    "model.fit(X_train, y_train)"
   ]
  },
  {
   "cell_type": "code",
   "execution_count": null,
   "id": "c698f0fc",
   "metadata": {},
   "outputs": [],
   "source": []
  },
  {
   "cell_type": "code",
   "execution_count": null,
   "id": "9ba9409f",
   "metadata": {},
   "outputs": [],
   "source": [
    "y_pred = model.predict(X_test)"
   ]
  },
  {
   "cell_type": "code",
   "execution_count": null,
   "id": "61b7c9b6",
   "metadata": {},
   "outputs": [],
   "source": [
    "# from sklearn.metrics import f1_score\n",
    "# from sklearn.metrics import recall\n",
    "# from sklearn.metrics import precision\n",
    "print(metrics.classification_report(y_test, y_pred))\n",
    "d = metrics.classification_report(y_test, y_pred,output_dict = True)\n",
    "p = d['1']['precision']\n",
    "p_c2s = round(p,2)\n",
    "r = d['1']['recall']\n",
    "r_c2s = round(r,2)\n",
    "f = d['1']['f1-score']\n",
    "f_c2s = round(f,2)\n"
   ]
  },
  {
   "cell_type": "markdown",
   "id": "f1255a3e",
   "metadata": {},
   "source": [
    " # ML_code2vec"
   ]
  },
  {
   "cell_type": "code",
   "execution_count": null,
   "id": "adc066be",
   "metadata": {},
   "outputs": [],
   "source": [
    "import numpy as np\n",
    "import pandas as pd"
   ]
  },
  {
   "cell_type": "code",
   "execution_count": null,
   "id": "54ddf964",
   "metadata": {},
   "outputs": [],
   "source": [
    "from imblearn import combine, over_sampling, under_sampling\n",
    "from imblearn import pipeline"
   ]
  },
  {
   "cell_type": "code",
   "execution_count": null,
   "id": "67c2f39e",
   "metadata": {},
   "outputs": [],
   "source": [
    "from sklearn import ensemble\n",
    "from sklearn import metrics "
   ]
  },
  {
   "cell_type": "code",
   "execution_count": null,
   "id": "bbe6bc36",
   "metadata": {},
   "outputs": [],
   "source": [
    "def binary_classes(smell):\n",
    "    return 0 if smell == \"none\" else 1"
   ]
  },
  {
   "cell_type": "code",
   "execution_count": null,
   "id": "e324c42f",
   "metadata": {},
   "outputs": [],
   "source": [
    "def fix_data_type(vector):\n",
    "    return np.asarray(vector)"
   ]
  },
  {
   "cell_type": "code",
   "execution_count": null,
   "id": "ae679503",
   "metadata": {},
   "outputs": [],
   "source": [
    "def load_data(dataset):\n",
    "    df = pd.read_pickle(dataset)\n",
    "    \n",
    "    df[\"vectors\"] = df[\"code_vector\"].apply(lambda x: fix_data_type(x))\n",
    "    df[\"classes\"] = df[\"smell\"].apply(lambda x: binary_classes(x))\n",
    "    \n",
    "    X = list(df[\"vectors\"].values)\n",
    "    y = list(df[\"classes\"].values)\n",
    "    \n",
    "    return X, y"
   ]
  },
  {
   "cell_type": "code",
   "execution_count": null,
   "id": "75e6385c",
   "metadata": {},
   "outputs": [],
   "source": [
    "import pickle\n",
    "with open(\"../Data/Long_Method_code2vec_train.pkl\",'rb') as f:\n",
    "    train = pickle.load(f)"
   ]
  },
  {
   "cell_type": "code",
   "execution_count": null,
   "id": "29f6a378",
   "metadata": {},
   "outputs": [],
   "source": [
    "train"
   ]
  },
  {
   "cell_type": "code",
   "execution_count": null,
   "id": "38cd9564",
   "metadata": {},
   "outputs": [],
   "source": [
    "import pickle\n",
    "with open(\"../Data/Long_Method_code2vec_test.pkl\",'rb') as f:\n",
    "    test = pickle.load(f)"
   ]
  },
  {
   "cell_type": "code",
   "execution_count": null,
   "id": "cc953f88",
   "metadata": {},
   "outputs": [],
   "source": [
    "test"
   ]
  },
  {
   "cell_type": "code",
   "execution_count": null,
   "id": "c16e4ae5",
   "metadata": {},
   "outputs": [],
   "source": [
    "X_train, y_train = load_data(\"../Data/Long_Method_code2vec_train.pkl\")"
   ]
  },
  {
   "cell_type": "code",
   "execution_count": null,
   "id": "1ed330a7",
   "metadata": {},
   "outputs": [],
   "source": [
    "X_test, y_test = load_data(\"../Data/Long_Method_code2vec_test.pkl\")"
   ]
  },
  {
   "cell_type": "code",
   "execution_count": null,
   "id": "dd2f9e54",
   "metadata": {},
   "outputs": [],
   "source": [
    "model = pipeline.make_pipeline(\n",
    "    over_sampling.SMOTE(sampling_strategy=0.81, random_state=42),\n",
    "    ensemble.RandomForestClassifier(\n",
    "        n_estimators=20, criterion=\"entropy\", min_samples_split=5, min_samples_leaf=2, n_jobs=-1, bootstrap=1, random_state=42\n",
    "    )\n",
    ")"
   ]
  },
  {
   "cell_type": "code",
   "execution_count": null,
   "id": "e5230c34",
   "metadata": {},
   "outputs": [],
   "source": [
    "model.fit(X_train, y_train)"
   ]
  },
  {
   "cell_type": "code",
   "execution_count": null,
   "id": "0fb5aa55",
   "metadata": {},
   "outputs": [],
   "source": [
    "y_pred = model.predict(X_test)"
   ]
  },
  {
   "cell_type": "code",
   "execution_count": null,
   "id": "40ae3a82",
   "metadata": {},
   "outputs": [],
   "source": [
    "print(metrics.classification_report(y_test, y_pred))\n",
    "d = metrics.classification_report(y_test, y_pred,output_dict = True)\n",
    "p = d['1']['precision']\n",
    "p_c2v = round(p,2)\n",
    "r = d['1']['recall']\n",
    "r_c2v = round(r,2)\n",
    "f = d['1']['f1-score']\n",
    "f_c2v = round(f,2)"
   ]
  },
  {
   "cell_type": "markdown",
   "id": "e81e6cbc",
   "metadata": {},
   "source": [
    "# ML_CuBERT"
   ]
  },
  {
   "cell_type": "markdown",
   "id": "80d618a1",
   "metadata": {},
   "source": [
    "# Long Method detection\n",
    "\n",
    "Loading the dataset:\n",
    "\n",
    "    df - pandas DataFrame containing the whole dataset\n",
    "    df_train - pandas DataFrame containing the training set (approximately 80% of the dataset, selected by stratified sampling)\n",
    "    d_test - pandas DataFrame containing the test set (approximately 20% of the dataset, selected by stratified sampling)\n",
    "\n"
   ]
  },
  {
   "cell_type": "code",
   "execution_count": null,
   "id": "de3f9208",
   "metadata": {},
   "outputs": [],
   "source": [
    "import pickle\n",
    "with open(\"../Data/Long_Method_CuBERT_embeddings.pkl\",'rb') as f:\n",
    "    cubert = pickle.load(f)"
   ]
  },
  {
   "cell_type": "code",
   "execution_count": null,
   "id": "481b487a",
   "metadata": {},
   "outputs": [],
   "source": [
    "cubert"
   ]
  },
  {
   "cell_type": "code",
   "execution_count": null,
   "id": "da6b2112",
   "metadata": {},
   "outputs": [],
   "source": [
    "import pandas as pd\n",
    "import pickle\n",
    "import numpy as np\n",
    "\n",
    "pickleFile = open(\"../Data/Long_Method_CuBERT_embeddings.pkl\", 'rb')\n",
    "df = pickle.load(pickleFile)\n",
    "\n",
    "replace_vals = {\"label_x\":     {\"long_method\": 1, \"not_lm\": 0}}\n",
    "df = df.replace(replace_vals)\n",
    "\n",
    "df_train = df[df['parts']=='train']\n",
    "df_test = df[df['parts']=='test']"
   ]
  },
  {
   "cell_type": "code",
   "execution_count": null,
   "id": "bc5273a4",
   "metadata": {},
   "outputs": [],
   "source": [
    "X_train = np.array([row for row in df_train['embedding']])\n",
    "y_train = np.array(df_train['label_x']).astype('int')\n",
    "X_test = np.array([row for row in df_test['embedding']])\n",
    "y_test = np.array(df_test['label_x']).astype('int')"
   ]
  },
  {
   "cell_type": "code",
   "execution_count": null,
   "id": "7754c6c3",
   "metadata": {},
   "outputs": [],
   "source": [
    "from xgboost import XGBClassifier\n",
    "\n",
    "from imblearn.over_sampling import SMOTE\n",
    "from imblearn.pipeline import make_pipeline\n",
    "from imblearn import under_sampling, combine\n",
    "\n",
    "from sklearn import metrics\n",
    "\n",
    "best_model = make_pipeline(combine.SMOTEENN(random_state=42,\n",
    "                                                   smote=SMOTE(sampling_strategy=0.2, random_state=42),\n",
    "                                                   enn=under_sampling.EditedNearestNeighbours(sampling_strategy=\"majority\",kind_sel=\"mode\")),\n",
    "                                  XGBClassifier(learning_rate=0.6264383372848873, max_depth=76,\n",
    "                                                colsample_bytree=0.016523557110861953,\n",
    "                                                colsample_bylevel=0.10795972201553816, n_jobs=-1))\n",
    "\n",
    "best_model = best_model.fit(X_train,y_train)"
   ]
  },
  {
   "cell_type": "code",
   "execution_count": null,
   "id": "8376ec5a",
   "metadata": {},
   "outputs": [],
   "source": [
    "y_pred = best_model.predict(X_test)\n",
    "\n",
    "print(\"Test report: \\n\", metrics.classification_report(y_test, y_pred))\n",
    "d = metrics.classification_report(y_test, y_pred,output_dict = True)\n",
    "p = d['1']['precision']\n",
    "p_cu = round(p,2)\n",
    "r = d['1']['recall']\n",
    "r_cu = round(r,2)\n",
    "f = d['1']['f1-score']\n",
    "f_cu = round(f,2)"
   ]
  },
  {
   "cell_type": "code",
   "execution_count": null,
   "id": "e0e64db9",
   "metadata": {},
   "outputs": [],
   "source": [
    "import xgboost as xgb\n",
    "\n",
    "xgb.__version__"
   ]
  },
  {
   "cell_type": "markdown",
   "id": "ec5fba29",
   "metadata": {},
   "source": [
    "# ML_metrics"
   ]
  },
  {
   "cell_type": "code",
   "execution_count": null,
   "id": "5de670f3",
   "metadata": {},
   "outputs": [],
   "source": [
    "import numpy as np\n",
    "import pandas as pd"
   ]
  },
  {
   "cell_type": "code",
   "execution_count": null,
   "id": "0c7a8bb7",
   "metadata": {},
   "outputs": [],
   "source": [
    "from imblearn import combine, over_sampling, under_sampling\n",
    "from imblearn import pipeline"
   ]
  },
  {
   "cell_type": "code",
   "execution_count": null,
   "id": "883803ee",
   "metadata": {},
   "outputs": [],
   "source": [
    "from sklearn import ensemble\n",
    "from sklearn import metrics "
   ]
  },
  {
   "cell_type": "code",
   "execution_count": null,
   "id": "c27ee9fd",
   "metadata": {},
   "outputs": [],
   "source": [
    "X_train_df = pd.read_excel(\"../Data/MLCQ_metrics_processed/train_X.xlsx\")\n",
    "X_train = X_train_df.values"
   ]
  },
  {
   "cell_type": "code",
   "execution_count": null,
   "id": "84115ea0",
   "metadata": {},
   "outputs": [],
   "source": [
    "y_train_df = pd.read_excel(\"../Data/MLCQ_metrics_processed/train_y.xlsx\")\n",
    "y_train = y_train_df[\"label\"].values"
   ]
  },
  {
   "cell_type": "code",
   "execution_count": null,
   "id": "086922ec",
   "metadata": {},
   "outputs": [],
   "source": [
    "X_test_df = pd.read_excel(\"../Data//MLCQ_metrics_processed/test_X.xlsx\")\n",
    "X_test = X_test_df.values"
   ]
  },
  {
   "cell_type": "code",
   "execution_count": null,
   "id": "c513d5b2",
   "metadata": {},
   "outputs": [],
   "source": [
    "y_test_df = pd.read_excel(\"../Data/MLCQ_metrics_processed/test_y.xlsx\")\n",
    "y_test = y_test_df[\"label\"].values"
   ]
  },
  {
   "cell_type": "code",
   "execution_count": null,
   "id": "61581e1a",
   "metadata": {},
   "outputs": [],
   "source": [
    "model = pipeline.make_pipeline(\n",
    "    combine.SMOTEENN(\n",
    "        random_state=42,\n",
    "        smote=over_sampling.SMOTE(sampling_strategy=0.57, random_state=42),\n",
    "        enn=under_sampling.EditedNearestNeighbours(kind_sel=\"mode\", sampling_strategy=\"majority\"),\n",
    "    ),\n",
    "    ensemble.RandomForestClassifier(\n",
    "        n_estimators=100, criterion=\"entropy\", n_jobs=-1, bootstrap=0, random_state=42\n",
    "    )\n",
    ")"
   ]
  },
  {
   "cell_type": "code",
   "execution_count": null,
   "id": "d2a52c20",
   "metadata": {},
   "outputs": [],
   "source": [
    "model.fit(X_train, y_train)"
   ]
  },
  {
   "cell_type": "code",
   "execution_count": null,
   "id": "fea41c8c",
   "metadata": {},
   "outputs": [],
   "source": [
    "y_pred = model.predict(X_test)"
   ]
  },
  {
   "cell_type": "code",
   "execution_count": null,
   "id": "e9735f86",
   "metadata": {},
   "outputs": [],
   "source": [
    "print(metrics.classification_report(y_test, y_pred))\n",
    "d = metrics.classification_report(y_test, y_pred,output_dict = True)\n",
    "p = d['True']['precision']\n",
    "p_metrics = round(p,2)\n",
    "r = d['True']['recall']\n",
    "r_metrics = round(r,2)\n",
    "f = d['True']['f1-score']\n",
    "f_metrics = round(f,2)"
   ]
  },
  {
   "cell_type": "markdown",
   "id": "646b71ec",
   "metadata": {},
   "source": [
    "   # H_metric"
   ]
  },
  {
   "cell_type": "code",
   "execution_count": null,
   "id": "d61e24b9",
   "metadata": {},
   "outputs": [],
   "source": [
    "df = pd.read_csv(\"../Outputs/Tables/Long_Method_Table_6.csv\")\n",
    "df\n",
    "p_h = df.loc[4].at[\"Test set-P\"]\n",
    "r_h = df.loc[4].at[\"Test set-R\"]\n",
    "f_h = df.loc[4].at[\"Test set-F\"]\n",
    "df"
   ]
  },
  {
   "cell_type": "code",
   "execution_count": null,
   "id": "c13b4756",
   "metadata": {},
   "outputs": [],
   "source": [
    "import matplotlib.pyplot as plt\n",
    "table10 ={'Denotement':['ML_code2vec','H_metrics','ML_code2seq','ML_metrics&votes','ML_metrics','ML_CuBERT'],\n",
    "       'Used features':['code2vec features','Code metrics','code2seq features','Code metrics + votes of heuristic detectors (LM1 – LM3)','Code metrics','CuBERT features'],\n",
    "      'Approach':['Random Forest + SMOTE','Heuristic-based approach (ANY)','Bagging (SVM classifier) + SMOTE','Random Forest + SMOTEENN','Random Forest + SMOTEEENN','XGBoost + SMOTEENN'],\n",
    "      'Precision':[p_c2v,p_h,p_c2s,'0.63',p_metrics,p_cu ],\n",
    "      'Recall':[r_c2v,r_h,r_c2s,'0.63',r_metrics,r_cu],\n",
    "       'F-measure':[f_c2v,f_h,f_c2s,0.63,f_metrics,f_cu]\n",
    "      }\n",
    "                         \n",
    "table10 = pd.DataFrame(table10)\n",
    "table10.to_csv('../Outputs/Tables/long_method_table10.csv')\n",
    "table10\n",
    "\n"
   ]
  },
  {
   "cell_type": "code",
   "execution_count": null,
   "id": "9512b278",
   "metadata": {},
   "outputs": [],
   "source": []
  },
  {
   "cell_type": "code",
   "execution_count": null,
   "id": "a11e7ebc",
   "metadata": {},
   "outputs": [],
   "source": []
  },
  {
   "cell_type": "code",
   "execution_count": null,
   "id": "abf040ec",
   "metadata": {},
   "outputs": [],
   "source": []
  },
  {
   "cell_type": "code",
   "execution_count": null,
   "id": "d17fe2d2",
   "metadata": {},
   "outputs": [],
   "source": []
  }
 ],
 "metadata": {
  "kernelspec": {
   "display_name": "Python 3 (ipykernel)",
   "language": "python",
   "name": "python3"
  },
  "language_info": {
   "codemirror_mode": {
    "name": "ipython",
    "version": 3
   },
   "file_extension": ".py",
   "mimetype": "text/x-python",
   "name": "python",
   "nbconvert_exporter": "python",
   "pygments_lexer": "ipython3",
   "version": "3.9.13"
  }
 },
 "nbformat": 4,
 "nbformat_minor": 5
}
